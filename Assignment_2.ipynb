{
  "nbformat": 4,
  "nbformat_minor": 0,
  "metadata": {
    "colab": {
      "name": "Assignment 2.ipynb",
      "provenance": [],
      "collapsed_sections": []
    },
    "language_info": {
      "codemirror_mode": {
        "name": "ipython",
        "version": 3
      },
      "file_extension": ".py",
      "mimetype": "text/x-python",
      "name": "python",
      "nbconvert_exporter": "python",
      "pygments_lexer": "ipython3",
      "version": "3.6.5"
    },
    "kernelspec": {
      "display_name": "Python 3",
      "language": "python",
      "name": "python3"
    }
  },
  "cells": [
    {
      "cell_type": "markdown",
      "metadata": {
        "id": "kL9VPYin9nOD",
        "colab_type": "text"
      },
      "source": [
        "![](https://i.imgur.com/0AUxkXt.png)\n",
        "\n",
        "# SF Salaries Exercise \n",
        "\n",
        "Explore San Francisco city employee salary data.\n",
        "\n",
        "## Overview\n",
        "\n",
        "One way to understand how a city government works is by looking at who it employs and how its employees are compensated. This data contains the names, job title, and compensation for San Francisco city employees on an annual basis from 2011 to 2014.\n",
        "\n",
        "\n",
        "\n",
        "Just follow along and complete the tasks outlined in bold below. The tasks will get harder and harder as you go along.\n",
        "\n",
        "## Resources\n",
        "\n",
        "[Pandas API Reference](https://pandas.pydata.org/pandas-docs/stable/api.html)\n",
        "\n",
        "[NumPy Reference](https://docs.scipy.org/doc/numpy/reference/)\n",
        "\n",
        "[Visualization with Seaborn](https://jakevdp.github.io/PythonDataScienceHandbook/04.14-visualization-with-seaborn.html)\n"
      ]
    },
    {
      "cell_type": "markdown",
      "metadata": {
        "id": "ueY1PMBl9nOF",
        "colab_type": "text"
      },
      "source": [
        "**Import libraries**"
      ]
    },
    {
      "cell_type": "code",
      "metadata": {
        "id": "dnwk5LCx9nOG",
        "colab_type": "code",
        "colab": {}
      },
      "source": [
        "import pandas as pd\n",
        "import seaborn as sns\n",
        "\n"
      ],
      "execution_count": 51,
      "outputs": []
    },
    {
      "cell_type": "markdown",
      "metadata": {
        "id": "jiOt1hEM9nOJ",
        "colab_type": "text"
      },
      "source": [
        "**Read `Salaries.csv` as a dataframe called `sal`.**"
      ]
    },
    {
      "cell_type": "code",
      "metadata": {
        "id": "FtA68BoY9nOJ",
        "colab_type": "code",
        "colab": {}
      },
      "source": [
        "link = \"https://s3-ap-southeast-1.amazonaws.com/intro-to-ml-minhdh/Salaries.csv\"\n",
        "sal = pd.read_csv(link)"
      ],
      "execution_count": 52,
      "outputs": []
    },
    {
      "cell_type": "markdown",
      "metadata": {
        "id": "QW6hV4iv9nOM",
        "colab_type": "text"
      },
      "source": [
        "**Check the head of the DataFrame.**"
      ]
    },
    {
      "cell_type": "code",
      "metadata": {
        "id": "oa2JHHJ99nON",
        "colab_type": "code",
        "colab": {
          "base_uri": "https://localhost:8080/",
          "height": 800
        },
        "outputId": "db254c30-e8aa-472f-d5bd-bd4939a803c0"
      },
      "source": [
        "sal.head(10)"
      ],
      "execution_count": 53,
      "outputs": [
        {
          "output_type": "execute_result",
          "data": {
            "text/html": [
              "<div>\n",
              "<style scoped>\n",
              "    .dataframe tbody tr th:only-of-type {\n",
              "        vertical-align: middle;\n",
              "    }\n",
              "\n",
              "    .dataframe tbody tr th {\n",
              "        vertical-align: top;\n",
              "    }\n",
              "\n",
              "    .dataframe thead th {\n",
              "        text-align: right;\n",
              "    }\n",
              "</style>\n",
              "<table border=\"1\" class=\"dataframe\">\n",
              "  <thead>\n",
              "    <tr style=\"text-align: right;\">\n",
              "      <th></th>\n",
              "      <th>Id</th>\n",
              "      <th>EmployeeName</th>\n",
              "      <th>JobTitle</th>\n",
              "      <th>BasePay</th>\n",
              "      <th>OvertimePay</th>\n",
              "      <th>OtherPay</th>\n",
              "      <th>Benefits</th>\n",
              "      <th>TotalPay</th>\n",
              "      <th>TotalPayBenefits</th>\n",
              "      <th>Year</th>\n",
              "      <th>Notes</th>\n",
              "      <th>Agency</th>\n",
              "      <th>Status</th>\n",
              "    </tr>\n",
              "  </thead>\n",
              "  <tbody>\n",
              "    <tr>\n",
              "      <th>0</th>\n",
              "      <td>1</td>\n",
              "      <td>NATHANIEL FORD</td>\n",
              "      <td>GENERAL MANAGER-METROPOLITAN TRANSIT AUTHORITY</td>\n",
              "      <td>167411.18</td>\n",
              "      <td>0.00</td>\n",
              "      <td>400184.25</td>\n",
              "      <td>NaN</td>\n",
              "      <td>567595.43</td>\n",
              "      <td>567595.43</td>\n",
              "      <td>2011</td>\n",
              "      <td>NaN</td>\n",
              "      <td>San Francisco</td>\n",
              "      <td>NaN</td>\n",
              "    </tr>\n",
              "    <tr>\n",
              "      <th>1</th>\n",
              "      <td>2</td>\n",
              "      <td>GARY JIMENEZ</td>\n",
              "      <td>CAPTAIN III (POLICE DEPARTMENT)</td>\n",
              "      <td>155966.02</td>\n",
              "      <td>245131.88</td>\n",
              "      <td>137811.38</td>\n",
              "      <td>NaN</td>\n",
              "      <td>538909.28</td>\n",
              "      <td>538909.28</td>\n",
              "      <td>2011</td>\n",
              "      <td>NaN</td>\n",
              "      <td>San Francisco</td>\n",
              "      <td>NaN</td>\n",
              "    </tr>\n",
              "    <tr>\n",
              "      <th>2</th>\n",
              "      <td>3</td>\n",
              "      <td>ALBERT PARDINI</td>\n",
              "      <td>CAPTAIN III (POLICE DEPARTMENT)</td>\n",
              "      <td>212739.13</td>\n",
              "      <td>106088.18</td>\n",
              "      <td>16452.60</td>\n",
              "      <td>NaN</td>\n",
              "      <td>335279.91</td>\n",
              "      <td>335279.91</td>\n",
              "      <td>2011</td>\n",
              "      <td>NaN</td>\n",
              "      <td>San Francisco</td>\n",
              "      <td>NaN</td>\n",
              "    </tr>\n",
              "    <tr>\n",
              "      <th>3</th>\n",
              "      <td>4</td>\n",
              "      <td>CHRISTOPHER CHONG</td>\n",
              "      <td>WIRE ROPE CABLE MAINTENANCE MECHANIC</td>\n",
              "      <td>77916.00</td>\n",
              "      <td>56120.71</td>\n",
              "      <td>198306.90</td>\n",
              "      <td>NaN</td>\n",
              "      <td>332343.61</td>\n",
              "      <td>332343.61</td>\n",
              "      <td>2011</td>\n",
              "      <td>NaN</td>\n",
              "      <td>San Francisco</td>\n",
              "      <td>NaN</td>\n",
              "    </tr>\n",
              "    <tr>\n",
              "      <th>4</th>\n",
              "      <td>5</td>\n",
              "      <td>PATRICK GARDNER</td>\n",
              "      <td>DEPUTY CHIEF OF DEPARTMENT,(FIRE DEPARTMENT)</td>\n",
              "      <td>134401.60</td>\n",
              "      <td>9737.00</td>\n",
              "      <td>182234.59</td>\n",
              "      <td>NaN</td>\n",
              "      <td>326373.19</td>\n",
              "      <td>326373.19</td>\n",
              "      <td>2011</td>\n",
              "      <td>NaN</td>\n",
              "      <td>San Francisco</td>\n",
              "      <td>NaN</td>\n",
              "    </tr>\n",
              "    <tr>\n",
              "      <th>5</th>\n",
              "      <td>6</td>\n",
              "      <td>DAVID SULLIVAN</td>\n",
              "      <td>ASSISTANT DEPUTY CHIEF II</td>\n",
              "      <td>118602.00</td>\n",
              "      <td>8601.00</td>\n",
              "      <td>189082.74</td>\n",
              "      <td>NaN</td>\n",
              "      <td>316285.74</td>\n",
              "      <td>316285.74</td>\n",
              "      <td>2011</td>\n",
              "      <td>NaN</td>\n",
              "      <td>San Francisco</td>\n",
              "      <td>NaN</td>\n",
              "    </tr>\n",
              "    <tr>\n",
              "      <th>6</th>\n",
              "      <td>7</td>\n",
              "      <td>ALSON LEE</td>\n",
              "      <td>BATTALION CHIEF, (FIRE DEPARTMENT)</td>\n",
              "      <td>92492.01</td>\n",
              "      <td>89062.90</td>\n",
              "      <td>134426.14</td>\n",
              "      <td>NaN</td>\n",
              "      <td>315981.05</td>\n",
              "      <td>315981.05</td>\n",
              "      <td>2011</td>\n",
              "      <td>NaN</td>\n",
              "      <td>San Francisco</td>\n",
              "      <td>NaN</td>\n",
              "    </tr>\n",
              "    <tr>\n",
              "      <th>7</th>\n",
              "      <td>8</td>\n",
              "      <td>DAVID KUSHNER</td>\n",
              "      <td>DEPUTY DIRECTOR OF INVESTMENTS</td>\n",
              "      <td>256576.96</td>\n",
              "      <td>0.00</td>\n",
              "      <td>51322.50</td>\n",
              "      <td>NaN</td>\n",
              "      <td>307899.46</td>\n",
              "      <td>307899.46</td>\n",
              "      <td>2011</td>\n",
              "      <td>NaN</td>\n",
              "      <td>San Francisco</td>\n",
              "      <td>NaN</td>\n",
              "    </tr>\n",
              "    <tr>\n",
              "      <th>8</th>\n",
              "      <td>9</td>\n",
              "      <td>MICHAEL MORRIS</td>\n",
              "      <td>BATTALION CHIEF, (FIRE DEPARTMENT)</td>\n",
              "      <td>176932.64</td>\n",
              "      <td>86362.68</td>\n",
              "      <td>40132.23</td>\n",
              "      <td>NaN</td>\n",
              "      <td>303427.55</td>\n",
              "      <td>303427.55</td>\n",
              "      <td>2011</td>\n",
              "      <td>NaN</td>\n",
              "      <td>San Francisco</td>\n",
              "      <td>NaN</td>\n",
              "    </tr>\n",
              "    <tr>\n",
              "      <th>9</th>\n",
              "      <td>10</td>\n",
              "      <td>JOANNE HAYES-WHITE</td>\n",
              "      <td>CHIEF OF DEPARTMENT, (FIRE DEPARTMENT)</td>\n",
              "      <td>285262.00</td>\n",
              "      <td>0.00</td>\n",
              "      <td>17115.73</td>\n",
              "      <td>NaN</td>\n",
              "      <td>302377.73</td>\n",
              "      <td>302377.73</td>\n",
              "      <td>2011</td>\n",
              "      <td>NaN</td>\n",
              "      <td>San Francisco</td>\n",
              "      <td>NaN</td>\n",
              "    </tr>\n",
              "  </tbody>\n",
              "</table>\n",
              "</div>"
            ],
            "text/plain": [
              "   Id        EmployeeName  ...         Agency  Status\n",
              "0   1      NATHANIEL FORD  ...  San Francisco     NaN\n",
              "1   2        GARY JIMENEZ  ...  San Francisco     NaN\n",
              "2   3      ALBERT PARDINI  ...  San Francisco     NaN\n",
              "3   4   CHRISTOPHER CHONG  ...  San Francisco     NaN\n",
              "4   5     PATRICK GARDNER  ...  San Francisco     NaN\n",
              "5   6      DAVID SULLIVAN  ...  San Francisco     NaN\n",
              "6   7           ALSON LEE  ...  San Francisco     NaN\n",
              "7   8       DAVID KUSHNER  ...  San Francisco     NaN\n",
              "8   9      MICHAEL MORRIS  ...  San Francisco     NaN\n",
              "9  10  JOANNE HAYES-WHITE  ...  San Francisco     NaN\n",
              "\n",
              "[10 rows x 13 columns]"
            ]
          },
          "metadata": {
            "tags": []
          },
          "execution_count": 53
        }
      ]
    },
    {
      "cell_type": "markdown",
      "metadata": {
        "id": "LgRIzJ_l9nOP",
        "colab_type": "text"
      },
      "source": [
        "**Use the .info() method to find out how many entries there are.**"
      ]
    },
    {
      "cell_type": "code",
      "metadata": {
        "id": "JuwgdTfz9nOP",
        "colab_type": "code",
        "colab": {
          "base_uri": "https://localhost:8080/",
          "height": 353
        },
        "outputId": "db67edee-94f8-4916-87d6-35671c6c8156"
      },
      "source": [
        "sal.info()"
      ],
      "execution_count": 54,
      "outputs": [
        {
          "output_type": "stream",
          "text": [
            "<class 'pandas.core.frame.DataFrame'>\n",
            "RangeIndex: 148654 entries, 0 to 148653\n",
            "Data columns (total 13 columns):\n",
            " #   Column            Non-Null Count   Dtype  \n",
            "---  ------            --------------   -----  \n",
            " 0   Id                148654 non-null  int64  \n",
            " 1   EmployeeName      148654 non-null  object \n",
            " 2   JobTitle          148654 non-null  object \n",
            " 3   BasePay           148045 non-null  float64\n",
            " 4   OvertimePay       148650 non-null  float64\n",
            " 5   OtherPay          148650 non-null  float64\n",
            " 6   Benefits          112491 non-null  float64\n",
            " 7   TotalPay          148654 non-null  float64\n",
            " 8   TotalPayBenefits  148654 non-null  float64\n",
            " 9   Year              148654 non-null  int64  \n",
            " 10  Notes             0 non-null       float64\n",
            " 11  Agency            148654 non-null  object \n",
            " 12  Status            0 non-null       float64\n",
            "dtypes: float64(8), int64(2), object(3)\n",
            "memory usage: 14.7+ MB\n"
          ],
          "name": "stdout"
        }
      ]
    },
    {
      "cell_type": "markdown",
      "metadata": {
        "id": "RgO49aNW9nOR",
        "colab_type": "text"
      },
      "source": [
        "**What is the average BasePay ?**\n",
        "\n",
        "Keyword: [mean](https://pandas.pydata.org/pandas-docs/stable/generated/pandas.DataFrame.mean.html)"
      ]
    },
    {
      "cell_type": "code",
      "metadata": {
        "id": "twQu_3xj9nOS",
        "colab_type": "code",
        "colab": {
          "base_uri": "https://localhost:8080/",
          "height": 874
        },
        "outputId": "f51b137d-b7f2-42c7-e613-cc524fff5b37"
      },
      "source": [
        "# Your Code Here\n",
        "print('mean',sal['BasePai'].mean(axis = 0))"
      ],
      "execution_count": 55,
      "outputs": [
        {
          "output_type": "error",
          "ename": "KeyError",
          "evalue": "ignored",
          "traceback": [
            "\u001b[0;31m---------------------------------------------------------------------------\u001b[0m",
            "\u001b[0;31mKeyError\u001b[0m                                  Traceback (most recent call last)",
            "\u001b[0;32m/usr/local/lib/python3.6/dist-packages/pandas/core/indexes/base.py\u001b[0m in \u001b[0;36mget_loc\u001b[0;34m(self, key, method, tolerance)\u001b[0m\n\u001b[1;32m   2645\u001b[0m             \u001b[0;32mtry\u001b[0m\u001b[0;34m:\u001b[0m\u001b[0;34m\u001b[0m\u001b[0;34m\u001b[0m\u001b[0m\n\u001b[0;32m-> 2646\u001b[0;31m                 \u001b[0;32mreturn\u001b[0m \u001b[0mself\u001b[0m\u001b[0;34m.\u001b[0m\u001b[0m_engine\u001b[0m\u001b[0;34m.\u001b[0m\u001b[0mget_loc\u001b[0m\u001b[0;34m(\u001b[0m\u001b[0mkey\u001b[0m\u001b[0;34m)\u001b[0m\u001b[0;34m\u001b[0m\u001b[0;34m\u001b[0m\u001b[0m\n\u001b[0m\u001b[1;32m   2647\u001b[0m             \u001b[0;32mexcept\u001b[0m \u001b[0mKeyError\u001b[0m\u001b[0;34m:\u001b[0m\u001b[0;34m\u001b[0m\u001b[0;34m\u001b[0m\u001b[0m\n",
            "\u001b[0;32mpandas/_libs/index.pyx\u001b[0m in \u001b[0;36mpandas._libs.index.IndexEngine.get_loc\u001b[0;34m()\u001b[0m\n",
            "\u001b[0;32mpandas/_libs/index.pyx\u001b[0m in \u001b[0;36mpandas._libs.index.IndexEngine.get_loc\u001b[0;34m()\u001b[0m\n",
            "\u001b[0;32mpandas/_libs/hashtable_class_helper.pxi\u001b[0m in \u001b[0;36mpandas._libs.hashtable.PyObjectHashTable.get_item\u001b[0;34m()\u001b[0m\n",
            "\u001b[0;32mpandas/_libs/hashtable_class_helper.pxi\u001b[0m in \u001b[0;36mpandas._libs.hashtable.PyObjectHashTable.get_item\u001b[0;34m()\u001b[0m\n",
            "\u001b[0;31mKeyError\u001b[0m: 'BasePai'",
            "\nDuring handling of the above exception, another exception occurred:\n",
            "\u001b[0;31mKeyError\u001b[0m                                  Traceback (most recent call last)",
            "\u001b[0;32m<ipython-input-55-a5a45bdd6462>\u001b[0m in \u001b[0;36m<module>\u001b[0;34m()\u001b[0m\n\u001b[1;32m      1\u001b[0m \u001b[0;31m# Your Code Here\u001b[0m\u001b[0;34m\u001b[0m\u001b[0;34m\u001b[0m\u001b[0;34m\u001b[0m\u001b[0m\n\u001b[0;32m----> 2\u001b[0;31m \u001b[0mprint\u001b[0m\u001b[0;34m(\u001b[0m\u001b[0;34m'mean'\u001b[0m\u001b[0;34m,\u001b[0m\u001b[0msal\u001b[0m\u001b[0;34m[\u001b[0m\u001b[0;34m'BasePai'\u001b[0m\u001b[0;34m]\u001b[0m\u001b[0;34m.\u001b[0m\u001b[0mmean\u001b[0m\u001b[0;34m(\u001b[0m\u001b[0maxis\u001b[0m \u001b[0;34m=\u001b[0m \u001b[0;36m0\u001b[0m\u001b[0;34m)\u001b[0m\u001b[0;34m)\u001b[0m\u001b[0;34m\u001b[0m\u001b[0;34m\u001b[0m\u001b[0m\n\u001b[0m",
            "\u001b[0;32m/usr/local/lib/python3.6/dist-packages/pandas/core/frame.py\u001b[0m in \u001b[0;36m__getitem__\u001b[0;34m(self, key)\u001b[0m\n\u001b[1;32m   2798\u001b[0m             \u001b[0;32mif\u001b[0m \u001b[0mself\u001b[0m\u001b[0;34m.\u001b[0m\u001b[0mcolumns\u001b[0m\u001b[0;34m.\u001b[0m\u001b[0mnlevels\u001b[0m \u001b[0;34m>\u001b[0m \u001b[0;36m1\u001b[0m\u001b[0;34m:\u001b[0m\u001b[0;34m\u001b[0m\u001b[0;34m\u001b[0m\u001b[0m\n\u001b[1;32m   2799\u001b[0m                 \u001b[0;32mreturn\u001b[0m \u001b[0mself\u001b[0m\u001b[0;34m.\u001b[0m\u001b[0m_getitem_multilevel\u001b[0m\u001b[0;34m(\u001b[0m\u001b[0mkey\u001b[0m\u001b[0;34m)\u001b[0m\u001b[0;34m\u001b[0m\u001b[0;34m\u001b[0m\u001b[0m\n\u001b[0;32m-> 2800\u001b[0;31m             \u001b[0mindexer\u001b[0m \u001b[0;34m=\u001b[0m \u001b[0mself\u001b[0m\u001b[0;34m.\u001b[0m\u001b[0mcolumns\u001b[0m\u001b[0;34m.\u001b[0m\u001b[0mget_loc\u001b[0m\u001b[0;34m(\u001b[0m\u001b[0mkey\u001b[0m\u001b[0;34m)\u001b[0m\u001b[0;34m\u001b[0m\u001b[0;34m\u001b[0m\u001b[0m\n\u001b[0m\u001b[1;32m   2801\u001b[0m             \u001b[0;32mif\u001b[0m \u001b[0mis_integer\u001b[0m\u001b[0;34m(\u001b[0m\u001b[0mindexer\u001b[0m\u001b[0;34m)\u001b[0m\u001b[0;34m:\u001b[0m\u001b[0;34m\u001b[0m\u001b[0;34m\u001b[0m\u001b[0m\n\u001b[1;32m   2802\u001b[0m                 \u001b[0mindexer\u001b[0m \u001b[0;34m=\u001b[0m \u001b[0;34m[\u001b[0m\u001b[0mindexer\u001b[0m\u001b[0;34m]\u001b[0m\u001b[0;34m\u001b[0m\u001b[0;34m\u001b[0m\u001b[0m\n",
            "\u001b[0;32m/usr/local/lib/python3.6/dist-packages/pandas/core/indexes/base.py\u001b[0m in \u001b[0;36mget_loc\u001b[0;34m(self, key, method, tolerance)\u001b[0m\n\u001b[1;32m   2646\u001b[0m                 \u001b[0;32mreturn\u001b[0m \u001b[0mself\u001b[0m\u001b[0;34m.\u001b[0m\u001b[0m_engine\u001b[0m\u001b[0;34m.\u001b[0m\u001b[0mget_loc\u001b[0m\u001b[0;34m(\u001b[0m\u001b[0mkey\u001b[0m\u001b[0;34m)\u001b[0m\u001b[0;34m\u001b[0m\u001b[0;34m\u001b[0m\u001b[0m\n\u001b[1;32m   2647\u001b[0m             \u001b[0;32mexcept\u001b[0m \u001b[0mKeyError\u001b[0m\u001b[0;34m:\u001b[0m\u001b[0;34m\u001b[0m\u001b[0;34m\u001b[0m\u001b[0m\n\u001b[0;32m-> 2648\u001b[0;31m                 \u001b[0;32mreturn\u001b[0m \u001b[0mself\u001b[0m\u001b[0;34m.\u001b[0m\u001b[0m_engine\u001b[0m\u001b[0;34m.\u001b[0m\u001b[0mget_loc\u001b[0m\u001b[0;34m(\u001b[0m\u001b[0mself\u001b[0m\u001b[0;34m.\u001b[0m\u001b[0m_maybe_cast_indexer\u001b[0m\u001b[0;34m(\u001b[0m\u001b[0mkey\u001b[0m\u001b[0;34m)\u001b[0m\u001b[0;34m)\u001b[0m\u001b[0;34m\u001b[0m\u001b[0;34m\u001b[0m\u001b[0m\n\u001b[0m\u001b[1;32m   2649\u001b[0m         \u001b[0mindexer\u001b[0m \u001b[0;34m=\u001b[0m \u001b[0mself\u001b[0m\u001b[0;34m.\u001b[0m\u001b[0mget_indexer\u001b[0m\u001b[0;34m(\u001b[0m\u001b[0;34m[\u001b[0m\u001b[0mkey\u001b[0m\u001b[0;34m]\u001b[0m\u001b[0;34m,\u001b[0m \u001b[0mmethod\u001b[0m\u001b[0;34m=\u001b[0m\u001b[0mmethod\u001b[0m\u001b[0;34m,\u001b[0m \u001b[0mtolerance\u001b[0m\u001b[0;34m=\u001b[0m\u001b[0mtolerance\u001b[0m\u001b[0;34m)\u001b[0m\u001b[0;34m\u001b[0m\u001b[0;34m\u001b[0m\u001b[0m\n\u001b[1;32m   2650\u001b[0m         \u001b[0;32mif\u001b[0m \u001b[0mindexer\u001b[0m\u001b[0;34m.\u001b[0m\u001b[0mndim\u001b[0m \u001b[0;34m>\u001b[0m \u001b[0;36m1\u001b[0m \u001b[0;32mor\u001b[0m \u001b[0mindexer\u001b[0m\u001b[0;34m.\u001b[0m\u001b[0msize\u001b[0m \u001b[0;34m>\u001b[0m \u001b[0;36m1\u001b[0m\u001b[0;34m:\u001b[0m\u001b[0;34m\u001b[0m\u001b[0;34m\u001b[0m\u001b[0m\n",
            "\u001b[0;32mpandas/_libs/index.pyx\u001b[0m in \u001b[0;36mpandas._libs.index.IndexEngine.get_loc\u001b[0;34m()\u001b[0m\n",
            "\u001b[0;32mpandas/_libs/index.pyx\u001b[0m in \u001b[0;36mpandas._libs.index.IndexEngine.get_loc\u001b[0;34m()\u001b[0m\n",
            "\u001b[0;32mpandas/_libs/hashtable_class_helper.pxi\u001b[0m in \u001b[0;36mpandas._libs.hashtable.PyObjectHashTable.get_item\u001b[0;34m()\u001b[0m\n",
            "\u001b[0;32mpandas/_libs/hashtable_class_helper.pxi\u001b[0m in \u001b[0;36mpandas._libs.hashtable.PyObjectHashTable.get_item\u001b[0;34m()\u001b[0m\n",
            "\u001b[0;31mKeyError\u001b[0m: 'BasePai'"
          ]
        }
      ]
    },
    {
      "cell_type": "markdown",
      "metadata": {
        "id": "qQc-OERD9nOU",
        "colab_type": "text"
      },
      "source": [
        "**What is the lowest and highest amount of BasePay?**\n",
        "\n",
        "Keyword: \n",
        "[min](https://pandas.pydata.org/pandas-docs/stable/generated/pandas.DataFrame.min.html) , \n",
        "[max](https://pandas.pydata.org/pandas-docs/stable/generated/pandas.DataFrame.max.html)"
      ]
    },
    {
      "cell_type": "code",
      "metadata": {
        "id": "22XKRdg49nOV",
        "colab_type": "code",
        "colab": {
          "base_uri": "https://localhost:8080/",
          "height": 34
        },
        "outputId": "31df304b-bf77-45b2-cf14-22b466592d8d"
      },
      "source": [
        "# Your Code Here\n",
        "print('min:', sal['BasePay'].min())"
      ],
      "execution_count": 57,
      "outputs": [
        {
          "output_type": "stream",
          "text": [
            "min: -166.01\n"
          ],
          "name": "stdout"
        }
      ]
    },
    {
      "cell_type": "code",
      "metadata": {
        "id": "R-yPM0ZU9nOX",
        "colab_type": "code",
        "colab": {
          "base_uri": "https://localhost:8080/",
          "height": 34
        },
        "outputId": "625564b7-7902-46a7-8cb9-9e5e500aad8d"
      },
      "source": [
        "# Your Code Here\n",
        "print('max:',sal['BasePay'].max())"
      ],
      "execution_count": 58,
      "outputs": [
        {
          "output_type": "stream",
          "text": [
            "max: 319275.01\n"
          ],
          "name": "stdout"
        }
      ]
    },
    {
      "cell_type": "markdown",
      "metadata": {
        "id": "-MdkKp6U9nOa",
        "colab_type": "text"
      },
      "source": [
        "**How about OvertimePay in the dataset? What is the average, lowest, highest amount?**"
      ]
    },
    {
      "cell_type": "code",
      "metadata": {
        "id": "Og2yxCil9nOb",
        "colab_type": "code",
        "colab": {
          "base_uri": "https://localhost:8080/",
          "height": 34
        },
        "outputId": "547cac7b-0643-4be7-d0b1-10aa0554a1f7"
      },
      "source": [
        "# Your Code Here\n",
        "print('mean:',sal['OvertimePay'].mean(axis = 0))"
      ],
      "execution_count": 56,
      "outputs": [
        {
          "output_type": "stream",
          "text": [
            "mean: 5066.059886444622\n"
          ],
          "name": "stdout"
        }
      ]
    },
    {
      "cell_type": "code",
      "metadata": {
        "id": "uVhw0urTDr6b",
        "colab_type": "code",
        "colab": {
          "base_uri": "https://localhost:8080/",
          "height": 34
        },
        "outputId": "b16f1afb-b3b7-460f-c876-a51ec3071fd1"
      },
      "source": [
        "# Your Code Here\n",
        "print('min:',sal['OvertimePay'].min())\n"
      ],
      "execution_count": 59,
      "outputs": [
        {
          "output_type": "stream",
          "text": [
            "min: -0.01\n"
          ],
          "name": "stdout"
        }
      ]
    },
    {
      "cell_type": "code",
      "metadata": {
        "id": "P9si4GhoDvLf",
        "colab_type": "code",
        "colab": {
          "base_uri": "https://localhost:8080/",
          "height": 34
        },
        "outputId": "3d7ac421-79ec-498c-c6be-1a5f9c4da191"
      },
      "source": [
        "# Your Code Here\n",
        "print('max:',sal['OvertimePay'].max())"
      ],
      "execution_count": 60,
      "outputs": [
        {
          "output_type": "stream",
          "text": [
            "max: 245131.88\n"
          ],
          "name": "stdout"
        }
      ]
    },
    {
      "cell_type": "markdown",
      "metadata": {
        "id": "mF0zrXXh9nOf",
        "colab_type": "text"
      },
      "source": [
        "**What is the job title of  JOSEPH DRISCOLL ? Note: Use all caps, otherwise you may get an answer that doesn't match up (there is also a lowercase Joseph Driscoll).**"
      ]
    },
    {
      "cell_type": "code",
      "metadata": {
        "id": "wbqO05iu9nOh",
        "colab_type": "code",
        "colab": {
          "base_uri": "https://localhost:8080/",
          "height": 34
        },
        "outputId": "40258d37-640a-4063-cdd3-9dc0d346bc81"
      },
      "source": [
        "# Your Code Here\n",
        "print('max:',sal['OvertimePay'].max())"
      ],
      "execution_count": 61,
      "outputs": [
        {
          "output_type": "stream",
          "text": [
            "max: 245131.88\n"
          ],
          "name": "stdout"
        }
      ]
    },
    {
      "cell_type": "code",
      "metadata": {
        "id": "MwzxTlI29nOl",
        "colab_type": "code",
        "colab": {
          "base_uri": "https://localhost:8080/",
          "height": 130
        },
        "outputId": "61d07e0a-315a-406d-d947-a76584ee4415"
      },
      "source": [
        "# Now try to select Employees who have name \"GARY JIMENEZ\"\n",
        "# Your Code Here\n",
        "temp = sal[sal['EmployeeName'].str.contains('GARY JIMENEZ')]\n",
        "temp.head()"
      ],
      "execution_count": 62,
      "outputs": [
        {
          "output_type": "execute_result",
          "data": {
            "text/html": [
              "<div>\n",
              "<style scoped>\n",
              "    .dataframe tbody tr th:only-of-type {\n",
              "        vertical-align: middle;\n",
              "    }\n",
              "\n",
              "    .dataframe tbody tr th {\n",
              "        vertical-align: top;\n",
              "    }\n",
              "\n",
              "    .dataframe thead th {\n",
              "        text-align: right;\n",
              "    }\n",
              "</style>\n",
              "<table border=\"1\" class=\"dataframe\">\n",
              "  <thead>\n",
              "    <tr style=\"text-align: right;\">\n",
              "      <th></th>\n",
              "      <th>Id</th>\n",
              "      <th>EmployeeName</th>\n",
              "      <th>JobTitle</th>\n",
              "      <th>BasePay</th>\n",
              "      <th>OvertimePay</th>\n",
              "      <th>OtherPay</th>\n",
              "      <th>Benefits</th>\n",
              "      <th>TotalPay</th>\n",
              "      <th>TotalPayBenefits</th>\n",
              "      <th>Year</th>\n",
              "      <th>Notes</th>\n",
              "      <th>Agency</th>\n",
              "      <th>Status</th>\n",
              "    </tr>\n",
              "  </thead>\n",
              "  <tbody>\n",
              "    <tr>\n",
              "      <th>1</th>\n",
              "      <td>2</td>\n",
              "      <td>GARY JIMENEZ</td>\n",
              "      <td>CAPTAIN III (POLICE DEPARTMENT)</td>\n",
              "      <td>155966.02</td>\n",
              "      <td>245131.88</td>\n",
              "      <td>137811.38</td>\n",
              "      <td>NaN</td>\n",
              "      <td>538909.28</td>\n",
              "      <td>538909.28</td>\n",
              "      <td>2011</td>\n",
              "      <td>NaN</td>\n",
              "      <td>San Francisco</td>\n",
              "      <td>NaN</td>\n",
              "    </tr>\n",
              "  </tbody>\n",
              "</table>\n",
              "</div>"
            ],
            "text/plain": [
              "   Id  EmployeeName  ...         Agency  Status\n",
              "1   2  GARY JIMENEZ  ...  San Francisco     NaN\n",
              "\n",
              "[1 rows x 13 columns]"
            ]
          },
          "metadata": {
            "tags": []
          },
          "execution_count": 62
        }
      ]
    },
    {
      "cell_type": "markdown",
      "metadata": {
        "id": "0nrHI4iu9nOn",
        "colab_type": "text"
      },
      "source": [
        "**How much does JOSEPH DRISCOLL make (including benefits)?**"
      ]
    },
    {
      "cell_type": "code",
      "metadata": {
        "id": "TUZlBSDE9nOo",
        "colab_type": "code",
        "colab": {}
      },
      "source": [
        "# Your Code Here"
      ],
      "execution_count": null,
      "outputs": []
    },
    {
      "cell_type": "markdown",
      "metadata": {
        "id": "1thjd2GC9nOq",
        "colab_type": "text"
      },
      "source": [
        "**What is the name of highest paid person (including benefits)?**"
      ]
    },
    {
      "cell_type": "code",
      "metadata": {
        "id": "msrq-7Ww9nOr",
        "colab_type": "code",
        "colab": {
          "base_uri": "https://localhost:8080/",
          "height": 50
        },
        "outputId": "22166b39-d6b4-4cbf-ae6e-33cd97cb02e5"
      },
      "source": [
        "# Your Code Heresal\n",
        "sal[sal['TotalPayBenefits'] == sal['TotalPayBenefits'].max()]['EmployeeName']"
      ],
      "execution_count": 63,
      "outputs": [
        {
          "output_type": "execute_result",
          "data": {
            "text/plain": [
              "0    NATHANIEL FORD\n",
              "Name: EmployeeName, dtype: object"
            ]
          },
          "metadata": {
            "tags": []
          },
          "execution_count": 63
        }
      ]
    },
    {
      "cell_type": "markdown",
      "metadata": {
        "id": "uF2kX93x9nOu",
        "colab_type": "text"
      },
      "source": [
        "**What is the name of lowest paid person (including benefits)? Do you notice something strange about how much he or she is paid?**"
      ]
    },
    {
      "cell_type": "code",
      "metadata": {
        "id": "htAfatTl9nOv",
        "colab_type": "code",
        "colab": {
          "base_uri": "https://localhost:8080/",
          "height": 50
        },
        "outputId": "d261c28f-a228-4151-acbd-15d8cb4f761c"
      },
      "source": [
        "# Your Code Here\n",
        "sal[sal['TotalPayBenefits'] == sal['TotalPayBenefits'].min()]['EmployeeName']"
      ],
      "execution_count": 64,
      "outputs": [
        {
          "output_type": "execute_result",
          "data": {
            "text/plain": [
              "148653    Joe Lopez\n",
              "Name: EmployeeName, dtype: object"
            ]
          },
          "metadata": {
            "tags": []
          },
          "execution_count": 64
        }
      ]
    },
    {
      "cell_type": "markdown",
      "metadata": {
        "id": "UCsudHFgIWJ7",
        "colab_type": "text"
      },
      "source": [
        "### His benefits were negative"
      ]
    },
    {
      "cell_type": "markdown",
      "metadata": {
        "id": "WB0HTvjM9nOx",
        "colab_type": "text"
      },
      "source": [
        "**What was the average (mean) BasePay of all employees per year? (2011-2014) ?**\n",
        "Keyword: _groupby_"
      ]
    },
    {
      "cell_type": "code",
      "metadata": {
        "id": "6Y5mUYir9nOy",
        "colab_type": "code",
        "colab": {
          "base_uri": "https://localhost:8080/",
          "height": 34
        },
        "outputId": "b12631df-7a91-443b-c1f5-6d06d5505612"
      },
      "source": [
        "# Your Code Here\n",
        "year2011 = sal[sal['Year'] == 2011]\n",
        "print('Mean 2011:', year2011['BasePay'].mean(axis = 0))"
      ],
      "execution_count": 65,
      "outputs": [
        {
          "output_type": "stream",
          "text": [
            "Mean 2011: 63595.956516774524\n"
          ],
          "name": "stdout"
        }
      ]
    },
    {
      "cell_type": "code",
      "metadata": {
        "id": "YF1xfs_U6pve",
        "colab_type": "code",
        "colab": {
          "base_uri": "https://localhost:8080/",
          "height": 34
        },
        "outputId": "1fad4c6d-1509-4782-8368-b3b0a0158021"
      },
      "source": [
        "year2012 = sal[sal['Year'] == 2012]\n",
        "print('Mean 2012:', year2012['BasePay'].mean(axis = 0))"
      ],
      "execution_count": 66,
      "outputs": [
        {
          "output_type": "stream",
          "text": [
            "Mean 2012: 65436.40685742255\n"
          ],
          "name": "stdout"
        }
      ]
    },
    {
      "cell_type": "code",
      "metadata": {
        "id": "53TQ1cat6x5e",
        "colab_type": "code",
        "colab": {
          "base_uri": "https://localhost:8080/",
          "height": 34
        },
        "outputId": "519b9fd1-9fa4-42c6-efa8-5f3c399ec1fb"
      },
      "source": [
        "\n",
        "year2013 = sal[sal['Year'] == 2013]\n",
        "print('Mean 2013:', year2013['BasePay'].mean(axis = 0))"
      ],
      "execution_count": 67,
      "outputs": [
        {
          "output_type": "stream",
          "text": [
            "Mean 2013: 69630.0302164812\n"
          ],
          "name": "stdout"
        }
      ]
    },
    {
      "cell_type": "markdown",
      "metadata": {
        "id": "k8Qzx9MD9nO0",
        "colab_type": "text"
      },
      "source": [
        "**How many unique job titles are there?**\n",
        "\n",
        "Keyword: _unique, nunique_"
      ]
    },
    {
      "cell_type": "code",
      "metadata": {
        "id": "mvzwZ5Mb9nO1",
        "colab_type": "code",
        "colab": {
          "base_uri": "https://localhost:8080/",
          "height": 34
        },
        "outputId": "7d01206d-79ed-4a9f-dd24-bd831978fc4e"
      },
      "source": [
        "# Your Code Here\n",
        "array = pd.unique(sal['JobTitle'])\n",
        "print(\"Number of Unique Job Title is:\", len(array))"
      ],
      "execution_count": 69,
      "outputs": [
        {
          "output_type": "stream",
          "text": [
            "Number of Unique Job Title is: 2159\n"
          ],
          "name": "stdout"
        }
      ]
    },
    {
      "cell_type": "markdown",
      "metadata": {
        "id": "0dkyZe-39nO4",
        "colab_type": "text"
      },
      "source": [
        "**What are the top 5 most common jobs?**\n",
        "\n",
        "Keyword: *value_counts*"
      ]
    },
    {
      "cell_type": "code",
      "metadata": {
        "id": "PVSDr3Ww9nO7",
        "colab_type": "code",
        "colab": {
          "base_uri": "https://localhost:8080/",
          "height": 118
        },
        "outputId": "1a668129-b8b3-4287-c541-e9ee855f8cc6"
      },
      "source": [
        "# Your Code Here\n",
        "sal['count'] = sal.groupby('JobTitle', as_index=False)['JobTitle'].transform(lambda s: s.count())\n",
        "sal.JobTitle.value_counts().head(5)"
      ],
      "execution_count": 70,
      "outputs": [
        {
          "output_type": "execute_result",
          "data": {
            "text/plain": [
              "Transit Operator                7036\n",
              "Special Nurse                   4389\n",
              "Registered Nurse                3736\n",
              "Public Svc Aide-Public Works    2518\n",
              "Police Officer 3                2421\n",
              "Name: JobTitle, dtype: int64"
            ]
          },
          "metadata": {
            "tags": []
          },
          "execution_count": 70
        }
      ]
    },
    {
      "cell_type": "markdown",
      "metadata": {
        "id": "LfPrf_Rx9PRJ",
        "colab_type": "text"
      },
      "source": [
        ""
      ]
    },
    {
      "cell_type": "markdown",
      "metadata": {
        "id": "25fCX21U9nO-",
        "colab_type": "text"
      },
      "source": [
        "**How many Job Titles were represented by only one person in 2013? (e.g. Job Titles with only one occurence in 2013?)**"
      ]
    },
    {
      "cell_type": "markdown",
      "metadata": {
        "id": "HoiNghja9nPD",
        "colab_type": "text"
      },
      "source": [
        "**How many people have the word Chief in their job title?**"
      ]
    },
    {
      "cell_type": "code",
      "metadata": {
        "id": "mBc0hzan9nPE",
        "colab_type": "code",
        "colab": {
          "base_uri": "https://localhost:8080/",
          "height": 34
        },
        "outputId": "0816cd0d-0c10-4ba0-98b6-90c1649593ca"
      },
      "source": [
        "# Your Code Here\n",
        "salChief = sal['JobTitle'].str.contains('Chief')\n",
        "salChief.sum()"
      ],
      "execution_count": 71,
      "outputs": [
        {
          "output_type": "execute_result",
          "data": {
            "text/plain": [
              "423"
            ]
          },
          "metadata": {
            "tags": []
          },
          "execution_count": 71
        }
      ]
    },
    {
      "cell_type": "markdown",
      "metadata": {
        "id": "5G094gws9nPL",
        "colab_type": "text"
      },
      "source": [
        "## Data Visualization\n",
        "\n",
        "**Implement seaborn's countplot with x='Year'**"
      ]
    },
    {
      "cell_type": "code",
      "metadata": {
        "id": "56GKG4UD9nPM",
        "colab_type": "code",
        "colab": {
          "base_uri": "https://localhost:8080/",
          "height": 300
        },
        "outputId": "b265504b-eea8-4027-9b89-2ce5ba200aad"
      },
      "source": [
        "sns.countplot(x = \"Year\", data=sal)"
      ],
      "execution_count": 72,
      "outputs": [
        {
          "output_type": "execute_result",
          "data": {
            "text/plain": [
              "<matplotlib.axes._subplots.AxesSubplot at 0x7f9f4501fba8>"
            ]
          },
          "metadata": {
            "tags": []
          },
          "execution_count": 72
        },
        {
          "output_type": "display_data",
          "data": {
            "image/png": "[encoded data removed]",
            "text/plain": [
              "<Figure size 432x288 with 1 Axes>"
            ]
          },
          "metadata": {
            "tags": [],
            "needs_background": "light"
          }
        }
      ]
    },
    {
      "cell_type": "markdown",
      "metadata": {
        "id": "orQACfVP9nPP",
        "colab_type": "text"
      },
      "source": [
        "**Implement seaborn's distplot for BasePay of Year 2011**"
      ]
    },
    {
      "cell_type": "code",
      "metadata": {
        "id": "JYPrrLW19nPQ",
        "colab_type": "code",
        "colab": {
          "base_uri": "https://localhost:8080/",
          "height": 290
        },
        "outputId": "0ca36911-da82-4e99-bd82-71311d3991fc"
      },
      "source": [
        "sns.distplot(sal[sal[\"Year\"] == 2011][\"BasePay\"], bins = 30);"
      ],
      "execution_count": 73,
      "outputs": [
        {
          "output_type": "display_data",
          "data": {
            "image/png": "[encoded data removed]",
            "text/plain": [
              "<Figure size 432x288 with 1 Axes>"
            ]
          },
          "metadata": {
            "tags": [],
            "needs_background": "light"
          }
        }
      ]
    },
    {
      "cell_type": "markdown",
      "metadata": {
        "id": "Ea9OFiqK9nPS",
        "colab_type": "text"
      },
      "source": [
        "**How about other Year**"
      ]
    },
    {
      "cell_type": "code",
      "metadata": {
        "id": "orRMn0X89nPT",
        "colab_type": "code",
        "colab": {
          "base_uri": "https://localhost:8080/",
          "height": 290
        },
        "outputId": "13b81f94-c19f-4b55-a30f-262ea9b66afe"
      },
      "source": [
        "import matplotlib.pyplot as plt\n",
        "# Your Code Here for 2012\n",
        "except2012 = sal[sal['Year'] != 2012]\n",
        "except2012 = except2012.dropna(subset=['BasePay'])\n",
        "sns.distplot(except2012['BasePay'])\n",
        "plt.show()"
      ],
      "execution_count": 76,
      "outputs": [
        {
          "output_type": "display_data",
          "data": {
            "image/png": "[encoded data removed]",
            "text/plain": [
              "<Figure size 432x288 with 1 Axes>"
            ]
          },
          "metadata": {
            "tags": [],
            "needs_background": "light"
          }
        }
      ]
    },
    {
      "cell_type": "code",
      "metadata": {
        "id": "zCyvCLkrMfal",
        "colab_type": "code",
        "colab": {
          "base_uri": "https://localhost:8080/",
          "height": 290
        },
        "outputId": "3977a5b2-65ec-43a5-907f-476202db92fd"
      },
      "source": [
        "# Your Code Here for 2013\n",
        "except2013 = sal[sal['Year'] != 2013]\n",
        "except2013 = except2013.dropna(subset=['BasePay'])\n",
        "sns.distplot(except2013['BasePay'])\n",
        "plt.show()"
      ],
      "execution_count": 78,
      "outputs": [
        {
          "output_type": "display_data",
          "data": {
            "image/png": "[encoded data removed]",
            "text/plain": [
              "<Figure size 432x288 with 1 Axes>"
            ]
          },
          "metadata": {
            "tags": [],
            "needs_background": "light"
          }
        }
      ]
    },
    {
      "cell_type": "code",
      "metadata": {
        "id": "4MkX9mqZMigJ",
        "colab_type": "code",
        "colab": {
          "base_uri": "https://localhost:8080/",
          "height": 290
        },
        "outputId": "ed326071-998a-4968-8ace-b8863106bae9"
      },
      "source": [
        "# Your Code Here for 2014\n",
        "except2014 = sal[sal['Year'] != 2014]\n",
        "except2014 = except2014.dropna(subset=['BasePay'])\n",
        "sns.distplot(except2014['BasePay'])\n",
        "plt.show()"
      ],
      "execution_count": 80,
      "outputs": [
        {
          "output_type": "display_data",
          "data": {
            "image/png": "[encoded data removed]",
            "text/plain": [
              "<Figure size 432x288 with 1 Axes>"
            ]
          },
          "metadata": {
            "tags": [],
            "needs_background": "light"
          }
        }
      ]
    },
    {
      "cell_type": "markdown",
      "metadata": {
        "id": "00EkkG_s9nPV",
        "colab_type": "text"
      },
      "source": [
        "## Bonus\n",
        "\n",
        "**Visualize top 5 Jobs with BasePay, Benefits and OvertimePay**\n",
        "\n",
        "Keyword: *index, isin, groupby, mean, plot*"
      ]
    },
    {
      "cell_type": "code",
      "metadata": {
        "id": "LoZm87Bu9nPV",
        "colab_type": "code",
        "colab": {
          "base_uri": "https://localhost:8080/",
          "height": 134
        },
        "outputId": "21e1226b-db6c-41c0-ba10-7fbfece22caa"
      },
      "source": [
        "# Your Code Here#\n",
        "Base = sal.groupby('JobTitle').mean()\n",
        "Base = Base.sort_values('BasePay', ascending=False)\n",
        "Base.head(5)['BasePay']"
      ],
      "execution_count": 81,
      "outputs": [
        {
          "output_type": "execute_result",
          "data": {
            "text/plain": [
              "JobTitle\n",
              "Chief of Police                           309767.683333\n",
              "Chief, Fire Department                    304232.340000\n",
              "Gen Mgr, Public Trnsp Dept                297769.413333\n",
              "CHIEF OF DEPARTMENT, (FIRE DEPARTMENT)    285262.000000\n",
              "Dep Dir for Investments, Ret              276153.765000\n",
              "Name: BasePay, dtype: float64"
            ]
          },
          "metadata": {
            "tags": []
          },
          "execution_count": 81
        }
      ]
    },
    {
      "cell_type": "code",
      "metadata": {
        "id": "C-nKGOA-9nPY",
        "colab_type": "code",
        "colab": {
          "base_uri": "https://localhost:8080/",
          "height": 290
        },
        "outputId": "53e6cc34-37b6-48f7-a8b4-817366a9edf2"
      },
      "source": [
        "\n",
        "Base = Base.dropna(subset=['BasePay'])\n",
        "sns.distplot(Base['BasePay'])\n",
        "plt.show()"
      ],
      "execution_count": 82,
      "outputs": [
        {
          "output_type": "display_data",
          "data": {
            "image/png": "[encoded data removed]",
            "text/plain": [
              "<Figure size 432x288 with 1 Axes>"
            ]
          },
          "metadata": {
            "tags": [],
            "needs_background": "light"
          }
        }
      ]
    },
    {
      "cell_type": "markdown",
      "metadata": {
        "id": "V2Lz3SGu9nPc",
        "colab_type": "text"
      },
      "source": [
        "**Fun Fact: Is there a correlation between length of the Job Title string and Salary?**\n",
        "\n",
        "*Hint: corr()*"
      ]
    },
    {
      "cell_type": "code",
      "metadata": {
        "id": "CgcrtPdJ9nPd",
        "colab_type": "code",
        "colab": {
          "base_uri": "https://localhost:8080/",
          "height": 393
        },
        "outputId": "09a7277e-3269-46ec-8090-11c48a3bd07b"
      },
      "source": [
        "# Your Code Here\n",
        "\n",
        "sal.corr(method ='kendall')"
      ],
      "execution_count": 83,
      "outputs": [
        {
          "output_type": "execute_result",
          "data": {
            "text/html": [
              "<div>\n",
              "<style scoped>\n",
              "    .dataframe tbody tr th:only-of-type {\n",
              "        vertical-align: middle;\n",
              "    }\n",
              "\n",
              "    .dataframe tbody tr th {\n",
              "        vertical-align: top;\n",
              "    }\n",
              "\n",
              "    .dataframe thead th {\n",
              "        text-align: right;\n",
              "    }\n",
              "</style>\n",
              "<table border=\"1\" class=\"dataframe\">\n",
              "  <thead>\n",
              "    <tr style=\"text-align: right;\">\n",
              "      <th></th>\n",
              "      <th>Id</th>\n",
              "      <th>BasePay</th>\n",
              "      <th>OvertimePay</th>\n",
              "      <th>OtherPay</th>\n",
              "      <th>Benefits</th>\n",
              "      <th>TotalPay</th>\n",
              "      <th>TotalPayBenefits</th>\n",
              "      <th>Year</th>\n",
              "      <th>Notes</th>\n",
              "      <th>Status</th>\n",
              "      <th>count</th>\n",
              "    </tr>\n",
              "  </thead>\n",
              "  <tbody>\n",
              "    <tr>\n",
              "      <th>Id</th>\n",
              "      <td>1.000000</td>\n",
              "      <td>-0.201067</td>\n",
              "      <td>-0.071083</td>\n",
              "      <td>-0.104453</td>\n",
              "      <td>-0.324056</td>\n",
              "      <td>-0.225156</td>\n",
              "      <td>-0.150623</td>\n",
              "      <td>0.865969</td>\n",
              "      <td>NaN</td>\n",
              "      <td>NaN</td>\n",
              "      <td>0.152694</td>\n",
              "    </tr>\n",
              "    <tr>\n",
              "      <th>BasePay</th>\n",
              "      <td>-0.201067</td>\n",
              "      <td>1.000000</td>\n",
              "      <td>0.224859</td>\n",
              "      <td>0.290479</td>\n",
              "      <td>0.790229</td>\n",
              "      <td>0.887552</td>\n",
              "      <td>0.832879</td>\n",
              "      <td>0.023485</td>\n",
              "      <td>NaN</td>\n",
              "      <td>NaN</td>\n",
              "      <td>-0.095366</td>\n",
              "    </tr>\n",
              "    <tr>\n",
              "      <th>OvertimePay</th>\n",
              "      <td>-0.071083</td>\n",
              "      <td>0.224859</td>\n",
              "      <td>1.000000</td>\n",
              "      <td>0.440682</td>\n",
              "      <td>0.269008</td>\n",
              "      <td>0.336174</td>\n",
              "      <td>0.325602</td>\n",
              "      <td>0.013507</td>\n",
              "      <td>NaN</td>\n",
              "      <td>NaN</td>\n",
              "      <td>0.185949</td>\n",
              "    </tr>\n",
              "    <tr>\n",
              "      <th>OtherPay</th>\n",
              "      <td>-0.104453</td>\n",
              "      <td>0.290479</td>\n",
              "      <td>0.440682</td>\n",
              "      <td>1.000000</td>\n",
              "      <td>0.304795</td>\n",
              "      <td>0.373620</td>\n",
              "      <td>0.355090</td>\n",
              "      <td>-0.014943</td>\n",
              "      <td>NaN</td>\n",
              "      <td>NaN</td>\n",
              "      <td>0.152532</td>\n",
              "    </tr>\n",
              "    <tr>\n",
              "      <th>Benefits</th>\n",
              "      <td>-0.324056</td>\n",
              "      <td>0.790229</td>\n",
              "      <td>0.269008</td>\n",
              "      <td>0.304795</td>\n",
              "      <td>1.000000</td>\n",
              "      <td>0.778525</td>\n",
              "      <td>0.821922</td>\n",
              "      <td>-0.050176</td>\n",
              "      <td>NaN</td>\n",
              "      <td>NaN</td>\n",
              "      <td>-0.087416</td>\n",
              "    </tr>\n",
              "    <tr>\n",
              "      <th>TotalPay</th>\n",
              "      <td>-0.225156</td>\n",
              "      <td>0.887552</td>\n",
              "      <td>0.336174</td>\n",
              "      <td>0.373620</td>\n",
              "      <td>0.778525</td>\n",
              "      <td>1.000000</td>\n",
              "      <td>0.888491</td>\n",
              "      <td>0.020540</td>\n",
              "      <td>NaN</td>\n",
              "      <td>NaN</td>\n",
              "      <td>-0.058185</td>\n",
              "    </tr>\n",
              "    <tr>\n",
              "      <th>TotalPayBenefits</th>\n",
              "      <td>-0.150623</td>\n",
              "      <td>0.832879</td>\n",
              "      <td>0.325602</td>\n",
              "      <td>0.355090</td>\n",
              "      <td>0.821922</td>\n",
              "      <td>0.888491</td>\n",
              "      <td>1.000000</td>\n",
              "      <td>0.114866</td>\n",
              "      <td>NaN</td>\n",
              "      <td>NaN</td>\n",
              "      <td>-0.030876</td>\n",
              "    </tr>\n",
              "    <tr>\n",
              "      <th>Year</th>\n",
              "      <td>0.865969</td>\n",
              "      <td>0.023485</td>\n",
              "      <td>0.013507</td>\n",
              "      <td>-0.014943</td>\n",
              "      <td>-0.050176</td>\n",
              "      <td>0.020540</td>\n",
              "      <td>0.114866</td>\n",
              "      <td>1.000000</td>\n",
              "      <td>NaN</td>\n",
              "      <td>NaN</td>\n",
              "      <td>0.155678</td>\n",
              "    </tr>\n",
              "    <tr>\n",
              "      <th>Notes</th>\n",
              "      <td>NaN</td>\n",
              "      <td>NaN</td>\n",
              "      <td>NaN</td>\n",
              "      <td>NaN</td>\n",
              "      <td>NaN</td>\n",
              "      <td>NaN</td>\n",
              "      <td>NaN</td>\n",
              "      <td>NaN</td>\n",
              "      <td>NaN</td>\n",
              "      <td>NaN</td>\n",
              "      <td>NaN</td>\n",
              "    </tr>\n",
              "    <tr>\n",
              "      <th>Status</th>\n",
              "      <td>NaN</td>\n",
              "      <td>NaN</td>\n",
              "      <td>NaN</td>\n",
              "      <td>NaN</td>\n",
              "      <td>NaN</td>\n",
              "      <td>NaN</td>\n",
              "      <td>NaN</td>\n",
              "      <td>NaN</td>\n",
              "      <td>NaN</td>\n",
              "      <td>NaN</td>\n",
              "      <td>NaN</td>\n",
              "    </tr>\n",
              "    <tr>\n",
              "      <th>count</th>\n",
              "      <td>0.152694</td>\n",
              "      <td>-0.095366</td>\n",
              "      <td>0.185949</td>\n",
              "      <td>0.152532</td>\n",
              "      <td>-0.087416</td>\n",
              "      <td>-0.058185</td>\n",
              "      <td>-0.030876</td>\n",
              "      <td>0.155678</td>\n",
              "      <td>NaN</td>\n",
              "      <td>NaN</td>\n",
              "      <td>1.000000</td>\n",
              "    </tr>\n",
              "  </tbody>\n",
              "</table>\n",
              "</div>"
            ],
            "text/plain": [
              "                        Id   BasePay  OvertimePay  ...  Notes  Status     count\n",
              "Id                1.000000 -0.201067    -0.071083  ...    NaN     NaN  0.152694\n",
              "BasePay          -0.201067  1.000000     0.224859  ...    NaN     NaN -0.095366\n",
              "OvertimePay      -0.071083  0.224859     1.000000  ...    NaN     NaN  0.185949\n",
              "OtherPay         -0.104453  0.290479     0.440682  ...    NaN     NaN  0.152532\n",
              "Benefits         -0.324056  0.790229     0.269008  ...    NaN     NaN -0.087416\n",
              "TotalPay         -0.225156  0.887552     0.336174  ...    NaN     NaN -0.058185\n",
              "TotalPayBenefits -0.150623  0.832879     0.325602  ...    NaN     NaN -0.030876\n",
              "Year              0.865969  0.023485     0.013507  ...    NaN     NaN  0.155678\n",
              "Notes                  NaN       NaN          NaN  ...    NaN     NaN       NaN\n",
              "Status                 NaN       NaN          NaN  ...    NaN     NaN       NaN\n",
              "count             0.152694 -0.095366     0.185949  ...    NaN     NaN  1.000000\n",
              "\n",
              "[11 rows x 11 columns]"
            ]
          },
          "metadata": {
            "tags": []
          },
          "execution_count": 83
        }
      ]
    },
    {
      "cell_type": "markdown",
      "metadata": {
        "id": "gY4kMupD9nPg",
        "colab_type": "text"
      },
      "source": [
        "# Great Job!"
      ]
    }
  ]
}